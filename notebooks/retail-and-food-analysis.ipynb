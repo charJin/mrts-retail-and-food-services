{
 "cells": [
  {
   "cell_type": "markdown",
   "id": "30adaf7f-e1f7-43ee-b09a-bcfc65a10a1e",
   "metadata": {},
   "source": [
    "# Data Loading and Cleaning"
   ]
  },
  {
   "cell_type": "markdown",
   "id": "6b8861c7-349a-4a5e-8c95-72b11dc2e54e",
   "metadata": {},
   "source": [
    "Loads and examines the initial structure of the datasets required."
   ]
  },
  {
   "cell_type": "code",
   "execution_count": 189,
   "id": "24f5c4a8-ba4a-42d2-8601-bfcfaa309cde",
   "metadata": {},
   "outputs": [],
   "source": [
    "import os\n",
    "import pandas as pd\n",
    "import seaborn as sns"
   ]
  },
  {
   "cell_type": "code",
   "execution_count": 190,
   "id": "b754506a-8822-4737-adc0-e8436ec269b7",
   "metadata": {},
   "outputs": [],
   "source": [
    "# Load Data\n",
    "df_adjusted = pd.read_csv('../data/combined_data_season_adjusted.csv')\n",
    "df_not_adjusted = pd.read_csv('../data/combined_data_season_not_adjusted.csv')\n",
    "categories = pd.read_csv('../data/code_categories.csv')"
   ]
  },
  {
   "cell_type": "markdown",
   "id": "d72f1456-676c-469e-96c1-46f65fc5f382",
   "metadata": {},
   "source": [
    "- **`df_adjusted` (*combined_data_season_adjusted*)**: Contains the main dataset with seasonally adjusted sales data for retail and food services from 2017–2023.\n",
    "- \n",
    "**`df_not_adjusted` (*combined_data_season_not_adjusted*)**: Contains the main dataset with raw sales data for retail and food services from 2017–2023.\n",
    "  \n",
    "- **`categories` (*code_categories*)**: Provides a mapping of category codes to descriptive names, enabling a better understanding of each retail and food service segment.\n"
   ]
  },
  {
   "cell_type": "code",
   "execution_count": 191,
   "id": "74da220d-ea7b-40ea-beb6-0e62913e99d1",
   "metadata": {},
   "outputs": [],
   "source": [
    "pd.options.display.float_format = '{:.0f}'.format"
   ]
  },
  {
   "cell_type": "code",
   "execution_count": 192,
   "id": "db59315b-b446-4525-a3e7-8058de4021d8",
   "metadata": {},
   "outputs": [
    {
     "data": {
      "text/html": [
       "<div>\n",
       "<style scoped>\n",
       "    .dataframe tbody tr th:only-of-type {\n",
       "        vertical-align: middle;\n",
       "    }\n",
       "\n",
       "    .dataframe tbody tr th {\n",
       "        vertical-align: top;\n",
       "    }\n",
       "\n",
       "    .dataframe thead th {\n",
       "        text-align: right;\n",
       "    }\n",
       "</style>\n",
       "<table border=\"1\" class=\"dataframe\">\n",
       "  <thead>\n",
       "    <tr style=\"text-align: right;\">\n",
       "      <th></th>\n",
       "      <th>cell_value</th>\n",
       "      <th>time_slot_id</th>\n",
       "      <th>error_data</th>\n",
       "      <th>category_code</th>\n",
       "      <th>seasonally_adj</th>\n",
       "      <th>data_type_code</th>\n",
       "      <th>time</th>\n",
       "      <th>us</th>\n",
       "    </tr>\n",
       "  </thead>\n",
       "  <tbody>\n",
       "    <tr>\n",
       "      <th>0</th>\n",
       "      <td>688810</td>\n",
       "      <td>0</td>\n",
       "      <td>no</td>\n",
       "      <td>44X72</td>\n",
       "      <td>yes</td>\n",
       "      <td>SM</td>\n",
       "      <td>2023-06</td>\n",
       "      <td>1</td>\n",
       "    </tr>\n",
       "    <tr>\n",
       "      <th>1</th>\n",
       "      <td>703256</td>\n",
       "      <td>0</td>\n",
       "      <td>no</td>\n",
       "      <td>44X72</td>\n",
       "      <td>yes</td>\n",
       "      <td>SM</td>\n",
       "      <td>2023-12</td>\n",
       "      <td>1</td>\n",
       "    </tr>\n",
       "    <tr>\n",
       "      <th>2</th>\n",
       "      <td>11124</td>\n",
       "      <td>0</td>\n",
       "      <td>no</td>\n",
       "      <td>4521E</td>\n",
       "      <td>yes</td>\n",
       "      <td>SM</td>\n",
       "      <td>2023-04</td>\n",
       "      <td>1</td>\n",
       "    </tr>\n",
       "    <tr>\n",
       "      <th>3</th>\n",
       "      <td>10871</td>\n",
       "      <td>0</td>\n",
       "      <td>no</td>\n",
       "      <td>4521E</td>\n",
       "      <td>yes</td>\n",
       "      <td>SM</td>\n",
       "      <td>2023-10</td>\n",
       "      <td>1</td>\n",
       "    </tr>\n",
       "    <tr>\n",
       "      <th>4</th>\n",
       "      <td>415563</td>\n",
       "      <td>0</td>\n",
       "      <td>no</td>\n",
       "      <td>44000</td>\n",
       "      <td>yes</td>\n",
       "      <td>SM</td>\n",
       "      <td>2017-02</td>\n",
       "      <td>1</td>\n",
       "    </tr>\n",
       "  </tbody>\n",
       "</table>\n",
       "</div>"
      ],
      "text/plain": [
       "   cell_value  time_slot_id error_data category_code seasonally_adj  \\\n",
       "0      688810             0         no         44X72            yes   \n",
       "1      703256             0         no         44X72            yes   \n",
       "2       11124             0         no         4521E            yes   \n",
       "3       10871             0         no         4521E            yes   \n",
       "4      415563             0         no         44000            yes   \n",
       "\n",
       "  data_type_code     time  us  \n",
       "0             SM  2023-06   1  \n",
       "1             SM  2023-12   1  \n",
       "2             SM  2023-04   1  \n",
       "3             SM  2023-10   1  \n",
       "4             SM  2017-02   1  "
      ]
     },
     "execution_count": 192,
     "metadata": {},
     "output_type": "execute_result"
    }
   ],
   "source": [
    "df_adjusted.head()"
   ]
  },
  {
   "cell_type": "code",
   "execution_count": 193,
   "id": "13764dc8-6fef-4b66-a888-b088037118fd",
   "metadata": {},
   "outputs": [
    {
     "data": {
      "text/html": [
       "<div>\n",
       "<style scoped>\n",
       "    .dataframe tbody tr th:only-of-type {\n",
       "        vertical-align: middle;\n",
       "    }\n",
       "\n",
       "    .dataframe tbody tr th {\n",
       "        vertical-align: top;\n",
       "    }\n",
       "\n",
       "    .dataframe thead th {\n",
       "        text-align: right;\n",
       "    }\n",
       "</style>\n",
       "<table border=\"1\" class=\"dataframe\">\n",
       "  <thead>\n",
       "    <tr style=\"text-align: right;\">\n",
       "      <th></th>\n",
       "      <th>category_code</th>\n",
       "      <th>category_name</th>\n",
       "      <th>high_level_category</th>\n",
       "    </tr>\n",
       "  </thead>\n",
       "  <tbody>\n",
       "    <tr>\n",
       "      <th>0</th>\n",
       "      <td>44X72</td>\n",
       "      <td>Retail Trade and Food Services</td>\n",
       "      <td>Retail and Food Services</td>\n",
       "    </tr>\n",
       "    <tr>\n",
       "      <th>1</th>\n",
       "      <td>4521E</td>\n",
       "      <td>Department Stores</td>\n",
       "      <td>Retail Trade</td>\n",
       "    </tr>\n",
       "    <tr>\n",
       "      <th>2</th>\n",
       "      <td>44000</td>\n",
       "      <td>Retail Trade</td>\n",
       "      <td>Retail Trade</td>\n",
       "    </tr>\n",
       "    <tr>\n",
       "      <th>3</th>\n",
       "      <td>444</td>\n",
       "      <td>Building Material and Garden Equipment and Sup...</td>\n",
       "      <td>Retail Trade</td>\n",
       "    </tr>\n",
       "    <tr>\n",
       "      <th>4</th>\n",
       "      <td>44Y72</td>\n",
       "      <td>Retail Trade and Food Services, ex Auto</td>\n",
       "      <td>Retail and Food Services</td>\n",
       "    </tr>\n",
       "  </tbody>\n",
       "</table>\n",
       "</div>"
      ],
      "text/plain": [
       "  category_code                                      category_name  \\\n",
       "0         44X72                     Retail Trade and Food Services   \n",
       "1         4521E                                  Department Stores   \n",
       "2         44000                                       Retail Trade   \n",
       "3           444  Building Material and Garden Equipment and Sup...   \n",
       "4         44Y72            Retail Trade and Food Services, ex Auto   \n",
       "\n",
       "        high_level_category  \n",
       "0  Retail and Food Services  \n",
       "1              Retail Trade  \n",
       "2              Retail Trade  \n",
       "3              Retail Trade  \n",
       "4  Retail and Food Services  "
      ]
     },
     "execution_count": 193,
     "metadata": {},
     "output_type": "execute_result"
    }
   ],
   "source": [
    "categories.head()"
   ]
  },
  {
   "cell_type": "code",
   "execution_count": 194,
   "id": "15a95d13-74a8-4d70-86f1-c05ce39c477d",
   "metadata": {},
   "outputs": [
    {
     "name": "stdout",
     "output_type": "stream",
     "text": [
      "<class 'pandas.core.frame.DataFrame'>\n",
      "RangeIndex: 3500 entries, 0 to 3499\n",
      "Data columns (total 8 columns):\n",
      " #   Column          Non-Null Count  Dtype  \n",
      "---  ------          --------------  -----  \n",
      " 0   cell_value      3500 non-null   float64\n",
      " 1   time_slot_id    3500 non-null   int64  \n",
      " 2   error_data      3500 non-null   object \n",
      " 3   category_code   3500 non-null   object \n",
      " 4   seasonally_adj  3500 non-null   object \n",
      " 5   data_type_code  3500 non-null   object \n",
      " 6   time            3500 non-null   object \n",
      " 7   us              3500 non-null   int64  \n",
      "dtypes: float64(1), int64(2), object(5)\n",
      "memory usage: 218.9+ KB\n"
     ]
    }
   ],
   "source": [
    "df_adjusted.info()"
   ]
  },
  {
   "cell_type": "markdown",
   "id": "3261e4c7-6799-4c0e-8b7a-9c4ed4460296",
   "metadata": {},
   "source": [
    "As the dataset contains no `null` values, we proceed to examine the unique values in each column to understand the variability and structure of the data."
   ]
  },
  {
   "cell_type": "code",
   "execution_count": 195,
   "id": "ad694090-bdb4-472f-8b71-8f2f624a8b02",
   "metadata": {},
   "outputs": [
    {
     "name": "stdout",
     "output_type": "stream",
     "text": [
      "Column: cell_value\n",
      "Unique values: [6.88810e+05 7.03256e+05 1.11240e+04 ... 7.60000e+00 4.80000e+00\n",
      " 5.00000e+00]\n",
      "Number of unique values: 1797\n",
      "\n",
      "Column: time_slot_id\n",
      "Unique values: [0]\n",
      "Number of unique values: 1\n",
      "\n",
      "Column: error_data\n",
      "Unique values: ['no' 'yes']\n",
      "Number of unique values: 2\n",
      "\n",
      "Column: category_code\n",
      "Unique values: ['44X72' '4521E' '44000' '444' '44Y72' '451' '453' '4451' '441' '454'\n",
      " '441X' '443' '447' '446' '452' '448' '445' '44W72' '442' '44Z72' '722']\n",
      "Number of unique values: 21\n",
      "\n",
      "Column: seasonally_adj\n",
      "Unique values: ['yes']\n",
      "Number of unique values: 1\n",
      "\n",
      "Column: data_type_code\n",
      "Unique values: ['SM' 'E_SM']\n",
      "Number of unique values: 2\n",
      "\n",
      "Column: time\n",
      "Unique values: ['2023-06' '2023-12' '2023-04' '2023-10' '2017-02' '2017-08' '2017-10'\n",
      " '2017-01' '2017-07' '2018-09' '2019-05' '2019-11' '2020-03' '2020-09'\n",
      " '2021-02' '2021-08' '2019-02' '2019-08' '2020-06' '2020-12' '2017-06'\n",
      " '2017-12' '2017-05' '2018-01' '2018-07' '2020-11' '2020-01' '2020-07'\n",
      " '2021-03' '2021-09' '2021-01' '2021-07' '2021-12' '2022-03' '2022-09'\n",
      " '2020-10' '2021-06' '2017-03' '2017-09' '2018-06' '2018-12' '2018-11'\n",
      " '2019-06' '2019-12' '2020-04' '2018-02' '2018-08' '2019-09' '2023-02'\n",
      " '2023-08' '2023-11' '2021-04' '2023-01' '2022-12' '2022-08' '2022-02'\n",
      " '2022-01' '2022-07' '2019-01' '2019-03' '2019-04' '2019-07' '2019-10'\n",
      " '2021-05' '2021-10' '2021-11' '2022-04' '2022-05' '2022-06' '2022-10'\n",
      " '2022-11' '2023-07' '2023-09' '2023-03' '2023-05' '2017-04' '2017-11'\n",
      " '2018-03' '2018-04' '2018-05' '2018-10' '2020-02' '2020-05' '2020-08']\n",
      "Number of unique values: 84\n",
      "\n",
      "Column: us\n",
      "Unique values: [1]\n",
      "Number of unique values: 1\n",
      "\n"
     ]
    }
   ],
   "source": [
    "for column in df_adjusted.columns:\n",
    "    print(f\"Column: {column}\")\n",
    "    print(f\"Unique values: {df_adjusted[column].unique()}\")\n",
    "    print(f\"Number of unique values: {df_adjusted[column].nunique()}\\n\")"
   ]
  },
  {
   "cell_type": "markdown",
   "id": "2336b0a0-f8d8-40a6-ac93-d4831e423663",
   "metadata": {},
   "source": [
    "Convert `time` to `Datetime` format for easier analysis."
   ]
  },
  {
   "cell_type": "code",
   "execution_count": 196,
   "id": "e4685246-16b4-4ad6-9440-5f873bcb7311",
   "metadata": {},
   "outputs": [],
   "source": [
    "df_adjusted['time'] = pd.to_datetime(df_adjusted['time'], format='%Y-%m')\n",
    "df_not_adjusted['time'] = pd.to_datetime(df_not_adjusted['time'], format='%Y-%m')"
   ]
  },
  {
   "cell_type": "markdown",
   "id": "8586fb38-2573-4bdd-974a-fefeb5370e6a",
   "metadata": {},
   "source": [
    "Rename column names for better interpretation."
   ]
  },
  {
   "cell_type": "code",
   "execution_count": 197,
   "id": "d6a63a09-074f-432e-8842-871544fa8ed4",
   "metadata": {},
   "outputs": [],
   "source": [
    "sm_df_adjusted = sm_df_adjusted.rename(columns={'seasonally_adj': 'seasonally_adjusted'})"
   ]
  },
  {
   "cell_type": "markdown",
   "id": "8605b905-3bc7-41f9-a25d-b296a3249c88",
   "metadata": {},
   "source": [
    "Proceed to drop unnecessary columns."
   ]
  },
  {
   "cell_type": "code",
   "execution_count": 198,
   "id": "531b2b2a-8e86-4927-8cb3-37503e89fba0",
   "metadata": {},
   "outputs": [],
   "source": [
    "df_adjusted = df_adjusted.drop(columns=['time_slot_id', 'us'])\n",
    "df_not_adjusted = df_not_adjusted.drop(columns=['time_slot_id', 'us'])"
   ]
  },
  {
   "cell_type": "markdown",
   "id": "b5ac31e0-8c52-4e70-915e-e52d10b79c14",
   "metadata": {},
   "source": [
    "Merge the main dataset with a mapping dataset (categories) using the `category_code` column. \n",
    "\n",
    "This step assigns descriptive names to each `category_code`, making the dataset more interpretable."
   ]
  },
  {
   "cell_type": "code",
   "execution_count": 199,
   "id": "4c0f1f60-d88d-46a2-afd9-eeef0fac9499",
   "metadata": {},
   "outputs": [],
   "source": [
    "df_adjusted = df_adjusted.merge(categories, on='category_code', how='left')\n",
    "df_not_adjusted = df_not_adjusted.merge(categories, on='category_code', how='left')"
   ]
  },
  {
   "cell_type": "markdown",
   "id": "93abe59a-4d58-47ec-8941-fa956f3d7dcc",
   "metadata": {},
   "source": [
    "Inspect `error_data` and `cell_value` for the two unique `data_type_code`s."
   ]
  },
  {
   "cell_type": "code",
   "execution_count": 200,
   "id": "cab4bf4c-8b56-4a00-b97a-30b43f8ff4a4",
   "metadata": {},
   "outputs": [
    {
     "data": {
      "text/html": [
       "<div>\n",
       "<style scoped>\n",
       "    .dataframe tbody tr th:only-of-type {\n",
       "        vertical-align: middle;\n",
       "    }\n",
       "\n",
       "    .dataframe tbody tr th {\n",
       "        vertical-align: top;\n",
       "    }\n",
       "\n",
       "    .dataframe thead tr th {\n",
       "        text-align: left;\n",
       "    }\n",
       "\n",
       "    .dataframe thead tr:last-of-type th {\n",
       "        text-align: right;\n",
       "    }\n",
       "</style>\n",
       "<table border=\"1\" class=\"dataframe\">\n",
       "  <thead>\n",
       "    <tr>\n",
       "      <th></th>\n",
       "      <th>error_data</th>\n",
       "      <th colspan=\"4\" halign=\"left\">cell_value</th>\n",
       "    </tr>\n",
       "    <tr>\n",
       "      <th></th>\n",
       "      <th>unique</th>\n",
       "      <th>unique</th>\n",
       "      <th>count</th>\n",
       "      <th>min</th>\n",
       "      <th>max</th>\n",
       "    </tr>\n",
       "    <tr>\n",
       "      <th>data_type_code</th>\n",
       "      <th></th>\n",
       "      <th></th>\n",
       "      <th></th>\n",
       "      <th></th>\n",
       "      <th></th>\n",
       "    </tr>\n",
       "  </thead>\n",
       "  <tbody>\n",
       "    <tr>\n",
       "      <th>E_SM</th>\n",
       "      <td>[yes]</td>\n",
       "      <td>[0.9, 0.7, 0.0, 0.6, 1.9, 2.3, 0.5, 1.2, 2.5, ...</td>\n",
       "      <td>1736</td>\n",
       "      <td>0</td>\n",
       "      <td>8</td>\n",
       "    </tr>\n",
       "    <tr>\n",
       "      <th>SM</th>\n",
       "      <td>[no]</td>\n",
       "      <td>[688810.0, 703256.0, 11124.0, 10871.0, 415563....</td>\n",
       "      <td>1764</td>\n",
       "      <td>2885</td>\n",
       "      <td>703256</td>\n",
       "    </tr>\n",
       "  </tbody>\n",
       "</table>\n",
       "</div>"
      ],
      "text/plain": [
       "               error_data                                         cell_value  \\\n",
       "                   unique                                             unique   \n",
       "data_type_code                                                                 \n",
       "E_SM                [yes]  [0.9, 0.7, 0.0, 0.6, 1.9, 2.3, 0.5, 1.2, 2.5, ...   \n",
       "SM                   [no]  [688810.0, 703256.0, 11124.0, 10871.0, 415563....   \n",
       "\n",
       "                                  \n",
       "               count  min    max  \n",
       "data_type_code                    \n",
       "E_SM            1736    0      8  \n",
       "SM              1764 2885 703256  "
      ]
     },
     "execution_count": 200,
     "metadata": {},
     "output_type": "execute_result"
    }
   ],
   "source": [
    "# Group by 'data_type_code' and get unique values of 'error_data' and basic stats for 'cell_value'\n",
    "result = data.groupby('data_type_code').agg({\n",
    "    'error_data': 'unique',     \n",
    "    'cell_value': ['unique', 'count', 'min', 'max'] \n",
    "})\n",
    "\n",
    "result"
   ]
  },
  {
   "cell_type": "markdown",
   "id": "09c79554-79ff-43be-8782-3c51bb5690dc",
   "metadata": {},
   "source": [
    "`SM (Sales Monthly)`: Represents raw sales figures.\n",
    "\n",
    "`E_SM (Sales Monthly Percent Change)`: Reflects percentage changes in sales.\n",
    "\n",
    "Due to their differing scales and contexts, separating these datasets ensures more accurate and focused analysis."
   ]
  },
  {
   "cell_type": "code",
   "execution_count": 201,
   "id": "5ff6fa4e-0e2e-46c1-bf3d-04e0abadb3c1",
   "metadata": {},
   "outputs": [],
   "source": [
    "df_adjusted = df_adjusted.drop(columns=['error_data'])\n",
    "df_not_adjusted = df_not_adjusted.drop(columns=['error_data'])\n",
    "df_adjusted['seasonally_adj'] = df_adjusted['seasonally_adj'].map({'yes': True, 'no': False})\n",
    "df_not_adjusted['seasonally_adj'] = df_not_adjusted['seasonally_adj'].map({'yes': True, 'no': False})"
   ]
  },
  {
   "cell_type": "code",
   "execution_count": 202,
   "id": "c5e94480-32c5-4541-88ba-6f77d105f34a",
   "metadata": {},
   "outputs": [],
   "source": [
    "sm_df_adjusted = df_adjusted[df_adjusted['data_type_code'] == 'SM']\n",
    "esm_df_adjusted = df_adjusted[df_adjusted['data_type_code'] == 'E_SM']\n",
    "sm_df_not_adjusted = df_not_adjusted[df_not_adjusted['data_type_code'] == 'SM']\n",
    "esm_df_not_adjusted = df_not_adjusted[df_not_adjusted['data_type_code'] == 'E_SM']"
   ]
  },
  {
   "cell_type": "markdown",
   "id": "839afea2-7265-465e-b0a6-ea23de163f22",
   "metadata": {},
   "source": [
    "Rename the `cell_value` column to reflect its respective data type for clarity."
   ]
  },
  {
   "cell_type": "code",
   "execution_count": 203,
   "id": "89efdb94-42a2-4194-9d0d-104838054b38",
   "metadata": {},
   "outputs": [],
   "source": [
    "sm_df_adjusted = sm_df_adjusted.rename(columns={'cell_value': 'monthly_sales'})\n",
    "esm_df_adjusted = esm_df_adjusted.rename(columns={'cell_value': 'monthly_sales_percent_change'})\n",
    "sm_df_not_adjusted = sm_df_not_adjusted.rename(columns={'cell_value': 'monthly_sales'})\n",
    "esm_df_not_adjusted = esm_df_not_adjusted.rename(columns={'cell_value': 'monthly_sales_percent_change'})"
   ]
  },
  {
   "cell_type": "code",
   "execution_count": 204,
   "id": "6812d7c4-8f6c-43e8-a01e-8fbbe167fad3",
   "metadata": {},
   "outputs": [
    {
     "data": {
      "text/html": [
       "<div>\n",
       "<style scoped>\n",
       "    .dataframe tbody tr th:only-of-type {\n",
       "        vertical-align: middle;\n",
       "    }\n",
       "\n",
       "    .dataframe tbody tr th {\n",
       "        vertical-align: top;\n",
       "    }\n",
       "\n",
       "    .dataframe thead th {\n",
       "        text-align: right;\n",
       "    }\n",
       "</style>\n",
       "<table border=\"1\" class=\"dataframe\">\n",
       "  <thead>\n",
       "    <tr style=\"text-align: right;\">\n",
       "      <th></th>\n",
       "      <th>monthly_sales</th>\n",
       "      <th>category_code</th>\n",
       "      <th>seasonally_adj</th>\n",
       "      <th>data_type_code</th>\n",
       "      <th>time</th>\n",
       "      <th>category_name</th>\n",
       "      <th>high_level_category</th>\n",
       "    </tr>\n",
       "  </thead>\n",
       "  <tbody>\n",
       "    <tr>\n",
       "      <th>0</th>\n",
       "      <td>688810</td>\n",
       "      <td>44X72</td>\n",
       "      <td>True</td>\n",
       "      <td>SM</td>\n",
       "      <td>2023-06-01</td>\n",
       "      <td>Retail Trade and Food Services</td>\n",
       "      <td>Retail and Food Services</td>\n",
       "    </tr>\n",
       "    <tr>\n",
       "      <th>1</th>\n",
       "      <td>703256</td>\n",
       "      <td>44X72</td>\n",
       "      <td>True</td>\n",
       "      <td>SM</td>\n",
       "      <td>2023-12-01</td>\n",
       "      <td>Retail Trade and Food Services</td>\n",
       "      <td>Retail and Food Services</td>\n",
       "    </tr>\n",
       "    <tr>\n",
       "      <th>2</th>\n",
       "      <td>11124</td>\n",
       "      <td>4521E</td>\n",
       "      <td>True</td>\n",
       "      <td>SM</td>\n",
       "      <td>2023-04-01</td>\n",
       "      <td>Department Stores</td>\n",
       "      <td>Retail Trade</td>\n",
       "    </tr>\n",
       "    <tr>\n",
       "      <th>3</th>\n",
       "      <td>10871</td>\n",
       "      <td>4521E</td>\n",
       "      <td>True</td>\n",
       "      <td>SM</td>\n",
       "      <td>2023-10-01</td>\n",
       "      <td>Department Stores</td>\n",
       "      <td>Retail Trade</td>\n",
       "    </tr>\n",
       "    <tr>\n",
       "      <th>4</th>\n",
       "      <td>415563</td>\n",
       "      <td>44000</td>\n",
       "      <td>True</td>\n",
       "      <td>SM</td>\n",
       "      <td>2017-02-01</td>\n",
       "      <td>Retail Trade</td>\n",
       "      <td>Retail Trade</td>\n",
       "    </tr>\n",
       "  </tbody>\n",
       "</table>\n",
       "</div>"
      ],
      "text/plain": [
       "   monthly_sales category_code  seasonally_adj data_type_code       time  \\\n",
       "0         688810         44X72            True             SM 2023-06-01   \n",
       "1         703256         44X72            True             SM 2023-12-01   \n",
       "2          11124         4521E            True             SM 2023-04-01   \n",
       "3          10871         4521E            True             SM 2023-10-01   \n",
       "4         415563         44000            True             SM 2017-02-01   \n",
       "\n",
       "                    category_name       high_level_category  \n",
       "0  Retail Trade and Food Services  Retail and Food Services  \n",
       "1  Retail Trade and Food Services  Retail and Food Services  \n",
       "2               Department Stores              Retail Trade  \n",
       "3               Department Stores              Retail Trade  \n",
       "4                    Retail Trade              Retail Trade  "
      ]
     },
     "execution_count": 204,
     "metadata": {},
     "output_type": "execute_result"
    }
   ],
   "source": [
    "sm_df_adjusted.head()"
   ]
  },
  {
   "cell_type": "code",
   "execution_count": 205,
   "id": "8deca06f-82ed-4aa3-85ee-7ea06085f2a4",
   "metadata": {},
   "outputs": [
    {
     "data": {
      "text/html": [
       "<div>\n",
       "<style scoped>\n",
       "    .dataframe tbody tr th:only-of-type {\n",
       "        vertical-align: middle;\n",
       "    }\n",
       "\n",
       "    .dataframe tbody tr th {\n",
       "        vertical-align: top;\n",
       "    }\n",
       "\n",
       "    .dataframe thead th {\n",
       "        text-align: right;\n",
       "    }\n",
       "</style>\n",
       "<table border=\"1\" class=\"dataframe\">\n",
       "  <thead>\n",
       "    <tr style=\"text-align: right;\">\n",
       "      <th></th>\n",
       "      <th>monthly_sales_percent_change</th>\n",
       "      <th>category_code</th>\n",
       "      <th>seasonally_adj</th>\n",
       "      <th>data_type_code</th>\n",
       "      <th>time</th>\n",
       "      <th>category_name</th>\n",
       "      <th>high_level_category</th>\n",
       "    </tr>\n",
       "  </thead>\n",
       "  <tbody>\n",
       "    <tr>\n",
       "      <th>1764</th>\n",
       "      <td>1</td>\n",
       "      <td>44X72</td>\n",
       "      <td>True</td>\n",
       "      <td>E_SM</td>\n",
       "      <td>2023-06-01</td>\n",
       "      <td>Retail Trade and Food Services</td>\n",
       "      <td>Retail and Food Services</td>\n",
       "    </tr>\n",
       "    <tr>\n",
       "      <th>1765</th>\n",
       "      <td>1</td>\n",
       "      <td>44X72</td>\n",
       "      <td>True</td>\n",
       "      <td>E_SM</td>\n",
       "      <td>2023-12-01</td>\n",
       "      <td>Retail Trade and Food Services</td>\n",
       "      <td>Retail and Food Services</td>\n",
       "    </tr>\n",
       "    <tr>\n",
       "      <th>1766</th>\n",
       "      <td>0</td>\n",
       "      <td>4521E</td>\n",
       "      <td>True</td>\n",
       "      <td>E_SM</td>\n",
       "      <td>2023-04-01</td>\n",
       "      <td>Department Stores</td>\n",
       "      <td>Retail Trade</td>\n",
       "    </tr>\n",
       "    <tr>\n",
       "      <th>1767</th>\n",
       "      <td>0</td>\n",
       "      <td>4521E</td>\n",
       "      <td>True</td>\n",
       "      <td>E_SM</td>\n",
       "      <td>2023-10-01</td>\n",
       "      <td>Department Stores</td>\n",
       "      <td>Retail Trade</td>\n",
       "    </tr>\n",
       "    <tr>\n",
       "      <th>1768</th>\n",
       "      <td>1</td>\n",
       "      <td>44000</td>\n",
       "      <td>True</td>\n",
       "      <td>E_SM</td>\n",
       "      <td>2017-02-01</td>\n",
       "      <td>Retail Trade</td>\n",
       "      <td>Retail Trade</td>\n",
       "    </tr>\n",
       "  </tbody>\n",
       "</table>\n",
       "</div>"
      ],
      "text/plain": [
       "      monthly_sales_percent_change category_code  seasonally_adj  \\\n",
       "1764                             1         44X72            True   \n",
       "1765                             1         44X72            True   \n",
       "1766                             0         4521E            True   \n",
       "1767                             0         4521E            True   \n",
       "1768                             1         44000            True   \n",
       "\n",
       "     data_type_code       time                   category_name  \\\n",
       "1764           E_SM 2023-06-01  Retail Trade and Food Services   \n",
       "1765           E_SM 2023-12-01  Retail Trade and Food Services   \n",
       "1766           E_SM 2023-04-01               Department Stores   \n",
       "1767           E_SM 2023-10-01               Department Stores   \n",
       "1768           E_SM 2017-02-01                    Retail Trade   \n",
       "\n",
       "           high_level_category  \n",
       "1764  Retail and Food Services  \n",
       "1765  Retail and Food Services  \n",
       "1766              Retail Trade  \n",
       "1767              Retail Trade  \n",
       "1768              Retail Trade  "
      ]
     },
     "execution_count": 205,
     "metadata": {},
     "output_type": "execute_result"
    }
   ],
   "source": [
    "esm_df_adjusted.head()"
   ]
  },
  {
   "cell_type": "code",
   "execution_count": 206,
   "id": "9cf43fa7-9918-417d-9791-16909ce1c53e",
   "metadata": {},
   "outputs": [],
   "source": [
    "output_directory = \"../data/\"\n",
    "\n",
    "# Export DataFrames to CSV files\n",
    "sm_df_adjusted.to_csv(f\"{output_directory}sm_df_adjusted.csv\", index=False)\n",
    "esm_df_adjusted.to_csv(f\"{output_directory}esm_df_adjusted.csv\", index=False)\n",
    "sm_df_not_adjusted.to_csv(f\"{output_directory}sm_df_not_adjusted.csv\", index=False)\n",
    "esm_df_not_adjusted.to_csv(f\"{output_directory}esm_df_not_adjusted.csv\", index=False)"
   ]
  }
 ],
 "metadata": {
  "kernelspec": {
   "display_name": "Python 3 (ipykernel)",
   "language": "python",
   "name": "python3"
  },
  "language_info": {
   "codemirror_mode": {
    "name": "ipython",
    "version": 3
   },
   "file_extension": ".py",
   "mimetype": "text/x-python",
   "name": "python",
   "nbconvert_exporter": "python",
   "pygments_lexer": "ipython3",
   "version": "3.9.6"
  }
 },
 "nbformat": 4,
 "nbformat_minor": 5
}
